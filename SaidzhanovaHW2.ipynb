{
 "cells": [
  {
   "cell_type": "code",
   "execution_count": 80,
   "metadata": {},
   "outputs": [
    {
     "name": "stdout",
     "output_type": "stream",
     "text": [
      "[[0.70702203 0.3208917  0.06518332]\n",
      " [0.05142874 0.56299347 0.05621469]\n",
      " [0.34003111 0.27403232 0.4581255 ]\n",
      " [0.02399495 0.47881808 0.99837134]\n",
      " [0.22182669 0.85859682 0.95868724]\n",
      " [0.73939161 0.28527499 0.23135176]\n",
      " [0.39111366 0.25954757 0.59777316]\n",
      " [0.88762722 0.37453228 0.49902016]\n",
      " [0.48186982 0.2884296  0.7971769 ]\n",
      " [0.08437502 0.41071797 0.72960436]]\n",
      "[0.3208917  0.56299347 0.27403232 0.47881808 0.85859682 0.28527499\n",
      " 0.25954757 0.37453228 0.2884296  0.41071797]\n"
     ]
    }
   ],
   "source": [
    "import numpy as np\n",
    "a=np.random.random((10, 3))\n",
    "i = np.arange(10)\n",
    "print (a)\n",
    "print (a[i,np.argmin (abs((a[0]-0.5)))])"
   ]
  },
  {
   "cell_type": "code",
   "execution_count": 103,
   "metadata": {},
   "outputs": [
    {
     "name": "stdout",
     "output_type": "stream",
     "text": [
      "[[0.69936793 0.90377875 0.22451304 0.77463807 0.52734177 0.1347313 ]\n",
      " [0.31260548 0.39185701 0.29914536 0.02275343 0.1599467  0.07233269]\n",
      " [0.90969027 0.06654996 0.43338674 0.87453693 0.10681436 0.11393491]\n",
      " [0.60305652 0.20523122 0.11965945 0.32600316 0.08424025 0.78536997]\n",
      " [0.23418731 0.94342055 0.34176433 0.88876279 0.03699291 0.41157253]\n",
      " [0.74033878 0.44019808 0.14638308 0.62047486 0.58233867 0.20396322]]\n",
      "[13.93914474 18.91271901 20.93368434 93.32926072 77.22290931 37.79337792]\n"
     ]
    }
   ],
   "source": [
    "import numpy as np\n",
    "a=np.random.random((6, 6))                           \n",
    "i = np.arange(6)\n",
    "print(a)\n",
    "print(a.sum(axis=1)/a.min(axis=0))"
   ]
  },
  {
   "cell_type": "code",
   "execution_count": null,
   "metadata": {},
   "outputs": [],
   "source": []
  },
  {
   "cell_type": "code",
   "execution_count": 9,
   "metadata": {},
   "outputs": [
    {
     "name": "stdout",
     "output_type": "stream",
     "text": [
      "6\n"
     ]
    }
   ],
   "source": [
    "import numpy as np\n",
    "x = np.array([6,2,0,3,0,0,6,7,0,10])\n",
    "print(max(np.array([x[i] for i in range(1,9) if x[i-1] == 0])))"
   ]
  },
  {
   "cell_type": "code",
   "execution_count": null,
   "metadata": {},
   "outputs": [],
   "source": []
  },
  {
   "cell_type": "code",
   "execution_count": 87,
   "metadata": {},
   "outputs": [
    {
     "name": "stdout",
     "output_type": "stream",
     "text": [
      "[2. 2. 2. 2. 1. 4. 1. 1. 2. 1.]\n"
     ]
    }
   ],
   "source": [
    "a = np.ones(10)\n",
    "i = np.array([0, 1, 2, 3, 5, 5, 5, 8])\n",
    "a += np.bincount(i, minlength=len(a))\n",
    "print(a)"
   ]
  },
  {
   "cell_type": "code",
   "execution_count": 12,
   "metadata": {},
   "outputs": [
    {
     "name": "stdout",
     "output_type": "stream",
     "text": [
      "[[ 0  1  2  3]\n",
      " [ 4  5  6  7]\n",
      " [ 8  9 10 11]\n",
      " [12 13 14 15]]\n",
      "[[ 0  1  2  3]\n",
      " [ 4  5  6  7]\n",
      " [ 8  9 10 11]\n",
      " [12 13 14 15]]\n",
      "[ 4  9 14]\n",
      "{3: <built-in method tolist of numpy.ndarray object at 0x0000025720874440>, 2: <built-in method tolist of numpy.ndarray object at 0x0000025720A5B710>, 1: <built-in method tolist of numpy.ndarray object at 0x0000025720A5B850>, 0: <built-in method tolist of numpy.ndarray object at 0x0000025720A5B8A0>, -1: <built-in method tolist of numpy.ndarray object at 0x0000025720A5B8F0>, -2: <built-in method tolist of numpy.ndarray object at 0x0000025720A5B940>, -3: <built-in method tolist of numpy.ndarray object at 0x0000025720A5B990>}\n"
     ]
    }
   ],
   "source": [
    "import numpy as np\n",
    "a = np.arange(16).reshape(4,4)\n",
    "print(a)\n",
    "a = np.arange(16).reshape(4, 4)\n",
    "print(a)\n",
    "print(a.diagonal(-1))\n",
    "print({3-i:a.diagonal(3-i).tolist for i in range (7)})"
   ]
  },
  {
   "cell_type": "code",
   "execution_count": 8,
   "metadata": {},
   "outputs": [
    {
     "name": "stdout",
     "output_type": "stream",
     "text": [
      "Input number of points: 5\n",
      "Deviation :  0.01980330726243669\n"
     ]
    },
    {
     "data": {
      "text/plain": [
       "<Figure size 640x480 with 1 Axes>"
      ]
     },
     "metadata": {},
     "output_type": "display_data"
    }
   ],
   "source": [
    "import numpy as np\n",
    "import matplotlib.pyplot as plt\n",
    "def _kmeans(data, k):\n",
    "    centers = np.random.rand(k,2)\n",
    "    _y =[]\n",
    "    while True:\n",
    "        dist = np.array([[np.linalg.norm(data[i]-centers[j]) for j in range(k)] for i in range(data.shape[0])])\n",
    "        y = np.array([dist[i].argmin() for i in range(data.shape[0])]).reshape(data.shape[0],1)\n",
    "        if (np.array_equal(y,_y)):\n",
    "            break\n",
    "        _y=y\n",
    "        a_x = np.array([np.mean([data[i][0] for i in range(data.shape[0]) if y[i]==j] + [centers[j][0]]) for j in range(k)]).reshape(k,1)\n",
    "        a_y = np.array([np.mean([data[i][1] for i in range(data.shape[0]) if y[i]==j] + [centers[j][1]]) for j in range(k)]).reshape(k,1)\n",
    "        centers = np.array([[a_x[i], a_y[i]] for i in range(k)]).reshape(k,2)\n",
    "    d = 0\n",
    "    for i in range(k):\n",
    "        for j in range(data.shape[0]):\n",
    "            if y[j] == i:\n",
    "                d += np.linalg.norm(centers[i] - data[j])*np.linalg.norm(centers[i] - data[j])\n",
    "    return [d, y]\n",
    "n = int(input(\"Input number of points: \"))\n",
    "k = 15\n",
    "data = np.random.rand(n,2)\n",
    "[d, y] = _kmeans(data, k)\n",
    "print(\"Deviation : \",d)\n",
    "plt.scatter(*data.T, c = y[:,0], s = 15)\n",
    "plt.show()"
   ]
  },
  {
   "cell_type": "code",
   "execution_count": null,
   "metadata": {},
   "outputs": [],
   "source": []
  }
 ],
 "metadata": {
  "kernelspec": {
   "display_name": "Python 3",
   "language": "python",
   "name": "python3"
  },
  "language_info": {
   "codemirror_mode": {
    "name": "ipython",
    "version": 3
   },
   "file_extension": ".py",
   "mimetype": "text/x-python",
   "name": "python",
   "nbconvert_exporter": "python",
   "pygments_lexer": "ipython3",
   "version": "3.7.1"
  }
 },
 "nbformat": 4,
 "nbformat_minor": 2
}
