{
 "cells": [
  {
   "cell_type": "code",
   "execution_count": 6,
   "metadata": {},
   "outputs": [
    {
     "name": "stdout",
     "output_type": "stream",
     "text": [
      "Total accuracy classification score: 0.6460435475305364\n",
      "Total F1 classification score: 0.6203806145034193\n",
      "Total accuracy classification score: 0.6498937865108869\n",
      "Total F1 classification score: 0.6234585896563603\n"
     ]
    }
   ],
   "source": [
    "from sklearn.datasets import fetch_20newsgroups \n",
    "from sklearn.feature_extraction.text import CountVectorizer \n",
    "from sklearn.naive_bayes import MultinomialNB \n",
    "from sklearn import metrics \n",
    "\n",
    "vectorizer = CountVectorizer() \n",
    "\n",
    "newsgroups_train = fetch_20newsgroups(subset='train', remove=('headers', 'footers', 'quotes')) \n",
    "newsgroups_test = fetch_20newsgroups(subset='test', remove=('headers', 'footers', 'quotes')) \n",
    "\n",
    "vectors = vectorizer.fit_transform(newsgroups_train.data) \n",
    "\n",
    "\n",
    "clf = MultinomialNB(alpha=.01) \n",
    "clf.fit(vectors, newsgroups_train.target) \n",
    "\n",
    "vectors_test = vectorizer.transform(newsgroups_test.data) \n",
    " \n",
    "pred = clf.predict(vectors_test) \n",
    "acc_score = metrics.accuracy_score(newsgroups_test.target, pred, normalize=True) \n",
    "f1_score = metrics.f1_score(newsgroups_test.target, pred, average='macro') \n",
    "\n",
    "print('Total accuracy classification score: {}'.format(acc_score)) \n",
    "print('Total F1 classification score: {}'.format(f1_score))\n",
    "\n",
    "\n",
    "clf = ComplementNB(alpha=.01)\n",
    "clf.fit(vectors, newsgroups_train.target) \n",
    "\n",
    "vectors_test = vectorizer.transform(newsgroups_test.data) \n",
    " \n",
    "pred = clf.predict(vectors_test) \n",
    "acc_score = metrics.accuracy_score(newsgroups_test.target, pred, normalize=True) \n",
    "f1_score = metrics.f1_score(newsgroups_test.target, pred, average='macro') \n",
    "\n",
    "print('Total accuracy classification score: {}'.format(acc_score)) \n",
    "print('Total F1 classification score: {}'.format(f1_score))"
   ]
  },
  {
   "cell_type": "code",
   "execution_count": null,
   "metadata": {},
   "outputs": [],
   "source": []
  }
 ],
 "metadata": {
  "kernelspec": {
   "display_name": "Python 3",
   "language": "python",
   "name": "python3"
  },
  "language_info": {
   "codemirror_mode": {
    "name": "ipython",
    "version": 3
   },
   "file_extension": ".py",
   "mimetype": "text/x-python",
   "name": "python",
   "nbconvert_exporter": "python",
   "pygments_lexer": "ipython3",
   "version": "3.7.1"
  }
 },
 "nbformat": 4,
 "nbformat_minor": 2
}
